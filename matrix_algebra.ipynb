{
 "cells": [
  {
   "cell_type": "code",
   "execution_count": 5,
   "id": "67f6023c-4d19-4863-8021-96eb09349671",
   "metadata": {},
   "outputs": [
    {
     "name": "stdout",
     "output_type": "stream",
     "text": [
      "[[ 27  30  33]\n",
      " [ 61  68  75]\n",
      " [ 95 106 117]]\n"
     ]
    }
   ],
   "source": [
    "import numpy\n",
    "\n",
    "# Demonstrating the dot Product\n",
    "\"\"\"\n",
    "Rules:\n",
    "\n",
    "The number of columns in the first array must be the same as the number of rows in the second array\n",
    "\n",
    "If the first array has dimensions nxm (n rows, m columns) and the second has dimensions mxq (m rows, q columns)\n",
    "\n",
    "The dot product will have dimensions n x q\n",
    "\n",
    "\"\"\"\n",
    "\n",
    "a=[[1,2],[3,4],[5,6]]\n",
    "b=[[7,8,9],[10,11,12]]\n",
    "\n",
    "A= numpy.array(a)\n",
    "B= numpy.array(b)\n",
    "C=numpy.dot(A,B)\n",
    "print(C)"
   ]
  },
  {
   "cell_type": "code",
   "execution_count": 10,
   "id": "cbd27355-a14e-42e5-85a3-fe3d747fe50a",
   "metadata": {},
   "outputs": [
    {
     "name": "stdout",
     "output_type": "stream",
     "text": [
      "A: (3, 2), B: (2, 3), C: (3, 3)\n"
     ]
    }
   ],
   "source": [
    "print(f\"A: {A.shape}, B: {B.shape}, C: {C.shape}\")"
   ]
  },
  {
   "cell_type": "code",
   "execution_count": null,
   "id": "dc7ee4b6-bcf0-439b-b6ae-b5ae5f0d2738",
   "metadata": {},
   "outputs": [],
   "source": []
  },
  {
   "cell_type": "code",
   "execution_count": null,
   "id": "187fee37-2400-47fe-93ca-f1a23b5ae825",
   "metadata": {},
   "outputs": [],
   "source": []
  },
  {
   "cell_type": "code",
   "execution_count": null,
   "id": "31ab42d3-952c-4541-8c67-a530eb965cb4",
   "metadata": {},
   "outputs": [],
   "source": []
  },
  {
   "cell_type": "code",
   "execution_count": null,
   "id": "7af6817c-a8ec-46eb-8fbf-7465c32b326a",
   "metadata": {},
   "outputs": [],
   "source": []
  }
 ],
 "metadata": {
  "kernelspec": {
   "display_name": "Python 3 (ipykernel)",
   "language": "python",
   "name": "python3"
  },
  "language_info": {
   "codemirror_mode": {
    "name": "ipython",
    "version": 3
   },
   "file_extension": ".py",
   "mimetype": "text/x-python",
   "name": "python",
   "nbconvert_exporter": "python",
   "pygments_lexer": "ipython3",
   "version": "3.11.13"
  }
 },
 "nbformat": 4,
 "nbformat_minor": 5
}
